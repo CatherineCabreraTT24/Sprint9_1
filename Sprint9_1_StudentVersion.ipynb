{
 "cells": [
  {
   "cell_type": "markdown",
   "id": "b784a436",
   "metadata": {},
   "source": [
    "# Clase de Data Analytics - Análisis de negocios\n",
    "\n",
    "Este notebook abarca varios ejercicios enfocados en análisis de datos y visualización. Se revisan conceptos como tasas de conversión, embudos de marketing y análisis de cohortes."
   ]
  },
  {
   "cell_type": "markdown",
   "id": "224bfac0",
   "metadata": {},
   "source": [
    "| Dataset                  | Representa (empresa/escenario)                              | Análisis típico / KPI que se puede calcular                  |\n",
    "|---------------------------|-------------------------------------------------------------|-------------------------------------------------------------|\n",
    "| **funnel_daily.csv**      | impresiones, clics, registros de una página web  | Conversion rate diario, evolución de conversiones en el tiempo |\n",
    "| **funnel_prod_events.csv**| Eventos de uso de un app (ej. chat, pageview, éxito)  | Embudo de acciones en producto, % de usuarios que completan pasos |\n",
    "| **events.csv**            | Eventos de e-commerce (pageview → add_to_cart → checkout → payment) | Conversion funnel, tasa de abandono por paso                |\n",
    "| **game_purchases.csv**    | Compras dentro de un videojuego (in-app purchases)          | Cohortes de usuarios, ticket promedio, ARPU (Average gasto           |\n",
    "| **work_user_activity.csv**| Actividad de usuarios en una app          | Retención, churn, DAU (Daily Active Users)                   |"
   ]
  },
  {
   "cell_type": "markdown",
   "id": "798c68b3",
   "metadata": {},
   "source": [
    "## Ejercicio 1: Tasa de conversión\n",
    "\n",
    "### Concepto teórico:\n",
    "La **tasa de conversión** es una métrica que permite medir el porcentaje de visitantes o usuarios que realizan una acción deseada (por ejemplo, una compra). Es fundamental en marketing digital para evaluar la eficacia de una campaña o la experiencia del usuario en una tienda.\n",
    "\n",
    "$\\text{Tasa de conversión} = \\dfrac{\\text{Usuarios/acciones en la etapa siguiente}}{\\text{Usuarios/acciones en la etapa anterior}} \\times 100$\n",
    "\n",
    "\n",
    "### En este ejercicio:\n",
    "Se muestran las tasas de CTR y CR\n",
    "\n",
    "- **CTR (Click Through Rate):** Porcentaje de impresiones que generan clics.\n",
    "- **CR (Conversion Rate):** Porcentaje de clics que se convierten en registros o ventas."
   ]
  },
  {
   "cell_type": "code",
   "execution_count": 3,
   "id": "cc33e744",
   "metadata": {},
   "outputs": [],
   "source": [
    "import seaborn as sns\n",
    "import matplotlib.pyplot as plt\n",
    "import pandas as pd\n",
    "import numpy"
   ]
  },
  {
   "cell_type": "markdown",
   "id": "d7fb5e53",
   "metadata": {},
   "source": [
    "## Ejercicio 2: Embudos\n",
    "\n",
    "### Concepto teórico:\n",
    "Un **embudo de conversión** es una representación gráfica que muestra las diferentes etapas que atraviesa un usuario antes de completar una acción (por ejemplo, comprar un producto). Permite identificar en qué punto se pierden los usuarios y optimizar el proceso.\n",
    "\n",
    "### En este ejercicio:\n",
    "Se visualiza el embudo de compra de la tienda, mostrando las etapas del proceso (desde la página principal hasta el pedido)."
   ]
  },
  {
   "cell_type": "code",
   "execution_count": null,
   "id": "7c6c0a4e",
   "metadata": {},
   "outputs": [],
   "source": []
  },
  {
   "cell_type": "markdown",
   "id": "5d1306c9",
   "metadata": {},
   "source": [
    "## Ejercicio 3: Embudo de marketing – Agrupación por semanas y meses\n",
    "\n",
    "### Concepto teórico:\n",
    "Agrupar datos por intervalos (semanas o meses) es fundamental para detectar tendencias a lo largo del tiempo. En el contexto de embudos de marketing, esto permite evaluar cómo varían las métricas (CTR y CR) en diferentes periodos y tomar decisiones basadas en patrones temporales.\n",
    "\n",
    "### En este ejercicio:\n",
    "Se agrupan los datos diarios para calcular métricas semanales y mensuales, facilitando el análisis de la evolución de las campañas publicitarias."
   ]
  },
  {
   "cell_type": "code",
   "execution_count": null,
   "id": "d8e8a82c-c612-44b8-9bd8-e579d4a36889",
   "metadata": {},
   "outputs": [],
   "source": []
  },
  {
   "cell_type": "markdown",
   "id": "63235d58",
   "metadata": {},
   "source": [
    "## Ejercicio 4: Embudos de producto simples\n",
    "\n",
    "### Concepto teórico:\n",
    "El análisis de **embudos de producto** se centra en medir la interacción de los usuarios con distintos eventos de una aplicación o plataforma, identificando la cantidad de usuarios únicos en cada evento (por ejemplo, ver una página, enviar un mensaje o completar una acción exitosa).\n",
    "\n",
    "### En este ejercicio:\n",
    "Se calcula la cantidad de usuarios únicos por evento y se visualiza la actividad utilizando tanto agrupaciones numéricas como gráficos de línea."
   ]
  },
  {
   "cell_type": "code",
   "execution_count": null,
   "id": "4d996c7e",
   "metadata": {},
   "outputs": [],
   "source": []
  },
  {
   "cell_type": "markdown",
   "id": "61dcc319",
   "metadata": {},
   "source": [
    "## Segundo momento: Análisis de cohortes\n",
    "\n",
    "El análisis de cohortes es una técnica que agrupa a los usuarios según un evento común (por ejemplo, la primera compra o actividad) para analizar su comportamiento a lo largo del tiempo. Esto permite identificar patrones de retención, abandono y evolución en el comportamiento de los usuarios.\n",
    "\n",
    "En las siguientes secciones se abordarán diferentes aspectos del análisis de cohortes, desde la agrupación inicial hasta la visualización de la retención y la tasa de cancelación."
   ]
  },
  {
   "cell_type": "markdown",
   "id": "762f5dce",
   "metadata": {},
   "source": [
    "### Cohorte 1: Análisis de cohortes en Python\n",
    "\n",
    "#### Concepto teórico:\n",
    "En este ejercicio se agrupa a los usuarios por el mes de su primera compra. De esta manera, se puede analizar cuánto gasta cada cohorte de usuarios a lo largo del tiempo. Esto es útil para identificar qué cohortes tienen mayor valor a lo largo de su ciclo de vida.\n",
    "\n",
    "#### En este ejercicio:\n",
    "Se convierte la fecha a un período mensual y vamos a determinar gasto total (price) por el primer mes de compra y la cantidad de usuarios, al igual que ver el ticket promedio."
   ]
  },
  {
   "cell_type": "code",
   "execution_count": null,
   "id": "388317bb",
   "metadata": {},
   "outputs": [],
   "source": []
  },
  {
   "cell_type": "markdown",
   "id": "07a18f0b",
   "metadata": {},
   "source": [
    "### Cohorte 2: Evaluación de cambios en los valores absolutos por mes\n",
    "\n",
    "#### Concepto teórico:\n",
    "Este análisis compara, para cada cohorte (definida por el mes de la primera compra), el número de compras y usuarios únicos en distintos meses, permitiendo calcular el promedio de compras por jugador. Esto ayuda a evaluar la fidelidad y actividad de cada cohorte a lo largo del tiempo.\n",
    "\n",
    "#### En este ejercicio:\n",
    "Se agrupan las compras por el mes de la primera compra y el mes de la compra, calculando el promedio de compras por jugador."
   ]
  },
  {
   "cell_type": "code",
   "execution_count": null,
   "id": "a0a89dda",
   "metadata": {},
   "outputs": [],
   "source": []
  },
  {
   "cell_type": "markdown",
   "id": "8f03213b",
   "metadata": {},
   "source": [
    "### Cohorte 3: Evaluación de los cambios en los valores relativos por ciclo de vida\n",
    "\n",
    "#### Concepto teórico:\n",
    "Este ejercicio analiza la evolución del número de compras por jugador a lo largo del tiempo, desde su primera compra. La diferencia en meses entre el primer mes de compra y el mes actual se denomina \"cohort lifetime\" y permite medir cómo varía la actividad de la cohorte.\n",
    "\n",
    "#### En este ejercicio:\n",
    "Se calcula el ciclo de vida de la cohorte en meses y se genera una tabla pivote que muestra el promedio de compras por jugador a lo largo de este ciclo."
   ]
  },
  {
   "cell_type": "code",
   "execution_count": null,
   "id": "77da1f52",
   "metadata": {},
   "outputs": [],
   "source": []
  },
  {
   "cell_type": "markdown",
   "id": "5c969e5b",
   "metadata": {},
   "source": [
    "### Cohorte 5: Tasa de retención y de cancelación\n",
    "\n",
    "#### Concepto teórico:\n",
    "La **tasa de retención** mide el porcentaje de usuarios que continúan utilizando una aplicación o servicio en periodos sucesivos. La **tasa de cancelación** (churn rate) indica el porcentaje de usuarios que abandonan la plataforma. Estas métricas son fundamentales para evaluar la fidelidad del cliente y el éxito de estrategias de retención.\n",
    "\n",
    "Tasa de retención (Retention) en el periodo t:\n",
    "\n",
    "$\\text{Retention}(t) = \\dfrac{\\text{Usuarios activos en el periodo } t}{\\text{Usuarios iniciales en la cohorte}} \\times 100$\n",
    "\n",
    "Tasa de cancelación (Churn) en el periodo t:\n",
    "\n",
    "$\\text{Churn}(t) = \\left( 1 - \\dfrac{\\text{Usuarios activos en el periodo } t}{\\text{Usuarios iniciales en la cohorte}} \\right) \\times 100$\n",
    "\n",
    "#### En este ejercicio:\n",
    "1. Se realiza el cáclulo de la taza retención  semanal."
   ]
  },
  {
   "cell_type": "code",
   "execution_count": null,
   "id": "8f21c8fa",
   "metadata": {},
   "outputs": [],
   "source": []
  },
  {
   "cell_type": "markdown",
   "id": "e0fb5498",
   "metadata": {},
   "source": [
    "2. Se calcula la tasa de cancelación a partir del número de usuarios en distintos periodos y se visualiza mediante un mapa de calor."
   ]
  },
  {
   "cell_type": "code",
   "execution_count": null,
   "id": "fa1c0ef5",
   "metadata": {},
   "outputs": [],
   "source": []
  }
 ],
 "metadata": {
  "kernelspec": {
   "display_name": "mi_entorno_2",
   "language": "python",
   "name": "python3"
  },
  "language_info": {
   "codemirror_mode": {
    "name": "ipython",
    "version": 3
   },
   "file_extension": ".py",
   "mimetype": "text/x-python",
   "name": "python",
   "nbconvert_exporter": "python",
   "pygments_lexer": "ipython3",
   "version": "3.13.5"
  }
 },
 "nbformat": 4,
 "nbformat_minor": 5
}
